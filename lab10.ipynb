{
 "cells": [
  {
   "cell_type": "markdown",
   "metadata": {
    "colab_type": "text",
    "id": "RKyokl2_UiwR"
   },
   "source": [
    "# Module 10: Logscale"
   ]
  },
  {
   "cell_type": "code",
   "execution_count": 1,
   "metadata": {
    "colab": {},
    "colab_type": "code",
    "id": "W8Eq-fx3UiwV"
   },
   "outputs": [],
   "source": [
    "import matplotlib.pyplot as plt\n",
    "import pandas as pd\n",
    "import seaborn as sns\n",
    "import numpy as np\n",
    "import scipy.stats as ss\n",
    "import vega_datasets\n",
    "%matplotlib inline"
   ]
  },
  {
   "cell_type": "markdown",
   "metadata": {
    "colab_type": "text",
    "id": "ijcFVmI9Uiwh"
   },
   "source": [
    "## Ratio and logarithm\n",
    "\n",
    "If you use linear scale to visualize ratios, it can be quite misleading.\n",
    "\n",
    "Let's first create some ratios."
   ]
  },
  {
   "cell_type": "code",
   "execution_count": 2,
   "metadata": {
    "colab": {
     "base_uri": "https://localhost:8080/",
     "height": 34
    },
    "colab_type": "code",
    "executionInfo": {
     "elapsed": 247,
     "status": "ok",
     "timestamp": 1539803478394,
     "user": {
      "displayName": "Limeng Liu",
      "photoUrl": "",
      "userId": "08973283271534689847"
     },
     "user_tz": 240
    },
    "id": "vhypUlTnUiwk",
    "outputId": "5c67a0bd-986d-47d1-946c-9102d2cbf7a1"
   },
   "outputs": [
    {
     "name": "stdout",
     "output_type": "stream",
     "text": [
      "[1.e-03 1.e-02 1.e-01 1.e+00 1.e+01 1.e+02 1.e+03]\n"
     ]
    }
   ],
   "source": [
    "x = np.array([1,    1,   1,  1, 10, 100, 1000])\n",
    "y = np.array([1000, 100, 10, 1, 1,  1,   1   ])\n",
    "ratio = x/y\n",
    "print(ratio)"
   ]
  },
  {
   "cell_type": "markdown",
   "metadata": {
    "colab_type": "text",
    "id": "g2H8JLefUiwz"
   },
   "source": [
    "**Q: Plot on the linear scale using the [`scatter()`](http://matplotlib.org/examples/shapes_and_collections/scatter_demo.html) function. Also draw a horizontal line at ratio=1 for a reference. **"
   ]
  },
  {
   "cell_type": "code",
   "execution_count": 43,
   "metadata": {
    "colab": {
     "base_uri": "https://localhost:8080/",
     "height": 282
    },
    "colab_type": "code",
    "executionInfo": {
     "elapsed": 303,
     "status": "ok",
     "timestamp": 1539803481125,
     "user": {
      "displayName": "Limeng Liu",
      "photoUrl": "",
      "userId": "08973283271534689847"
     },
     "user_tz": 240
    },
    "id": "8qUmvQslUiw3",
    "outputId": "9899a856-50b8-47d5-9080-d672697e047f"
   },
   "outputs": [
    {
     "data": {
      "text/plain": [
       "Text(0,0.5,'Ratio')"
      ]
     },
     "execution_count": 43,
     "metadata": {},
     "output_type": "execute_result"
    },
    {
     "data": {
      "image/png": "[encoded data removed]",
      "text/plain": [
       "<Figure size 432x288 with 1 Axes>"
      ]
     },
     "metadata": {},
     "output_type": "display_data"
    }
   ],
   "source": [
    "# Implement\n",
    "plt.scatter(x=[i for i in range(len(list(x)))],y=ratio)\n",
    "plt.hlines(y=1, xmin=0, xmax=len(x), linestyle = 'dotted', linewidth = 1, colors = \"blue\")\n",
    "plt.xlabel(\"Date Id\")\n",
    "plt.ylabel(\"Ratio\")"
   ]
  },
  {
   "cell_type": "markdown",
   "metadata": {
    "colab_type": "text",
    "id": "su-96jQFUixD"
   },
   "source": [
    "**Q: Explain what's bad about this plot.**"
   ]
  },
  {
   "cell_type": "code",
   "execution_count": 4,
   "metadata": {
    "colab": {},
    "colab_type": "code",
    "id": "03vaZFQnUixE"
   },
   "outputs": [],
   "source": [
    "# Answer: this ratio should symmetric by the reference line, cause 1/10 = 0.1 \n",
    "#and 10/1 = 10 makes so much difference. However, 10/1 or 1/10 means the same, this graph will make audiences a misleading."
   ]
  },
  {
   "cell_type": "markdown",
   "metadata": {
    "colab_type": "text",
    "id": "yWdNZrFHUixL"
   },
   "source": [
    "**Q: Can you fix it? **"
   ]
  },
  {
   "cell_type": "code",
   "execution_count": 44,
   "metadata": {
    "colab": {
     "base_uri": "https://localhost:8080/",
     "height": 282
    },
    "colab_type": "code",
    "executionInfo": {
     "elapsed": 310,
     "status": "ok",
     "timestamp": 1539803484839,
     "user": {
      "displayName": "Limeng Liu",
      "photoUrl": "",
      "userId": "08973283271534689847"
     },
     "user_tz": 240
    },
    "id": "hLJvTRWKUixN",
    "outputId": "b29a0107-21bf-4701-ef9a-44ec83faf4fb"
   },
   "outputs": [
    {
     "data": {
      "text/plain": [
       "Text(0,0.5,'Ratio')"
      ]
     },
     "execution_count": 44,
     "metadata": {},
     "output_type": "execute_result"
    },
    {
     "data": {
      "image/png": "[encoded data removed]",
      "text/plain": [
       "<Figure size 432x288 with 1 Axes>"
      ]
     },
     "metadata": {},
     "output_type": "display_data"
    }
   ],
   "source": [
    "# Implement\n",
    "## Using the LogSacle\n",
    "plt.scatter(x=[i for i in range(len(list(x)))],y=np.log(ratio))\n",
    "plt.hlines(y=np.log(1), xmin=0, xmax=len(x), linestyle = 'dotted', linewidth = 1, colors = \"blue\")\n",
    "plt.xlabel(\"Date Id\")\n",
    "plt.ylabel(\"Ratio\")"
   ]
  },
  {
   "cell_type": "markdown",
   "metadata": {
    "colab_type": "text",
    "id": "oiSQVNMDUixR"
   },
   "source": [
    "## Log-binning\n",
    "\n",
    "Let's first see what happens if we do not use the log scale for a dataset with a heavy tail. \n",
    "\n",
    "**Q: Load the movie dataset from `vega_datasets` and remove the NaN rows based on the following three columns: `IMDB_Rating`, `IMDB_Votes`, `Rotten_Tomatoes_Rating`. **"
   ]
  },
  {
   "cell_type": "code",
   "execution_count": 6,
   "metadata": {
    "colab": {},
    "colab_type": "code",
    "id": "8u7RgpSDUixT"
   },
   "outputs": [],
   "source": [
    "# Implement\n",
    "movies = vega_datasets.data.movies()"
   ]
  },
  {
   "cell_type": "code",
   "execution_count": 7,
   "metadata": {
    "colab": {},
    "colab_type": "code",
    "id": "Z-0WSHdSZ3H5"
   },
   "outputs": [],
   "source": [
    "movies = movies.dropna(subset=['IMDB_Rating', 'Rotten_Tomatoes_Rating', 'IMDB_Votes'])"
   ]
  },
  {
   "cell_type": "markdown",
   "metadata": {
    "colab_type": "text",
    "id": "dFpftuKhUixY"
   },
   "source": [
    "If you simply call `hist()` method with a dataframe object, it identifies all the numeric columns and draw a histogram for each. \n",
    "\n",
    "**Q: draw all possible histograms of the movie dataframe. Adjust the size of the plots if needed. **"
   ]
  },
  {
   "cell_type": "code",
   "execution_count": 8,
   "metadata": {
    "colab": {
     "base_uri": "https://localhost:8080/",
     "height": 958
    },
    "colab_type": "code",
    "executionInfo": {
     "elapsed": 1765,
     "status": "ok",
     "timestamp": 1539803493115,
     "user": {
      "displayName": "Limeng Liu",
      "photoUrl": "",
      "userId": "08973283271534689847"
     },
     "user_tz": 240
    },
    "id": "qSXQ51BTUixc",
    "outputId": "36325912-03d4-4b0c-da6c-8721b1a78ce5"
   },
   "outputs": [
    {
     "data": {
      "text/plain": [
       "array([[<matplotlib.axes._subplots.AxesSubplot object at 0x0000020C2560E940>,\n",
       "        <matplotlib.axes._subplots.AxesSubplot object at 0x0000020C2564E2B0>,\n",
       "        <matplotlib.axes._subplots.AxesSubplot object at 0x0000020C2568E358>],\n",
       "       [<matplotlib.axes._subplots.AxesSubplot object at 0x0000020C256CB7B8>,\n",
       "        <matplotlib.axes._subplots.AxesSubplot object at 0x0000020C2570E470>,\n",
       "        <matplotlib.axes._subplots.AxesSubplot object at 0x0000020C2570E588>],\n",
       "       [<matplotlib.axes._subplots.AxesSubplot object at 0x0000020C25B77278>,\n",
       "        <matplotlib.axes._subplots.AxesSubplot object at 0x0000020C25BB6FD0>,\n",
       "        <matplotlib.axes._subplots.AxesSubplot object at 0x0000020C25C03358>]],\n",
       "      dtype=object)"
      ]
     },
     "execution_count": 8,
     "metadata": {},
     "output_type": "execute_result"
    },
    {
     "data": {
      "image/png": "[encoded data removed]",
      "text/plain": [
       "<Figure size 1296x936 with 9 Axes>"
      ]
     },
     "metadata": {},
     "output_type": "display_data"
    }
   ],
   "source": [
    "# Implement\n",
    "movies.hist(figsize = (18,13))"
   ]
  },
  {
   "cell_type": "markdown",
   "metadata": {
    "colab_type": "text",
    "id": "Afe-lxo0Uixk"
   },
   "source": [
    "As we can see, a majority of the columns are not normally distributed. In particular, if you look at the worldwide gross variable, you only see a couple of meaningful data from the histogram. Is this a problem of resolution? How about increasing the number of bins?\n",
    "\n",
    "**Q: Play with the number of bins, and then increase the number of bins to 200. **"
   ]
  },
  {
   "cell_type": "code",
   "execution_count": 24,
   "metadata": {
    "colab": {
     "base_uri": "https://localhost:8080/",
     "height": 296
    },
    "colab_type": "code",
    "executionInfo": {
     "elapsed": 873,
     "status": "ok",
     "timestamp": 1539803496471,
     "user": {
      "displayName": "Limeng Liu",
      "photoUrl": "",
      "userId": "08973283271534689847"
     },
     "user_tz": 240
    },
    "id": "dv4jQYvSUixm",
    "outputId": "b6e6db24-1188-478a-f8b9-2662af9f55c9"
   },
   "outputs": [
    {
     "data": {
      "text/plain": [
       "Text(0,0.5,'Frequency')"
      ]
     },
     "execution_count": 24,
     "metadata": {},
     "output_type": "execute_result"
    },
    {
     "data": {
      "image/png": "[encoded data removed]",
      "text/plain": [
       "<Figure size 432x288 with 1 Axes>"
      ]
     },
     "metadata": {},
     "output_type": "display_data"
    }
   ],
   "source": [
    "# Implement\n",
    "movies.Worldwide_Gross.hist(bins = 200)\n",
    "plt.xlabel(\"World Wide Gross\")\n",
    "plt.ylabel(\"Frequency\")"
   ]
  },
  {
   "cell_type": "markdown",
   "metadata": {
    "colab_type": "text",
    "id": "k3DcyNYhUixu"
   },
   "source": [
    "Maybe a bit more useful, but it doesn't tell anything about the data distribution above certain point. \n",
    "\n",
    "**Q: How about changing the vertical scale to logarithmic scale?**"
   ]
  },
  {
   "cell_type": "code",
   "execution_count": 25,
   "metadata": {
    "colab": {
     "base_uri": "https://localhost:8080/",
     "height": 295
    },
    "colab_type": "code",
    "executionInfo": {
     "elapsed": 905,
     "status": "ok",
     "timestamp": 1539804580378,
     "user": {
      "displayName": "Limeng Liu",
      "photoUrl": "",
      "userId": "08973283271534689847"
     },
     "user_tz": 240
    },
    "id": "uv-NagAtUixw",
    "outputId": "564b0c9f-aec6-4c37-eb41-a615a479b78f"
   },
   "outputs": [
    {
     "data": {
      "text/plain": [
       "Text(0,0.5,'Frequency')"
      ]
     },
     "execution_count": 25,
     "metadata": {},
     "output_type": "execute_result"
    },
    {
     "data": {
      "image/png": "[encoded data removed]",
      "text/plain": [
       "<Figure size 432x288 with 1 Axes>"
      ]
     },
     "metadata": {},
     "output_type": "display_data"
    }
   ],
   "source": [
    "# Implement\n",
    "movies.Worldwide_Gross.hist(bins = 200, log = True)\n",
    "plt.xlabel(\"World Wide Gross\")\n",
    "plt.ylabel(\"Frequency\")"
   ]
  },
  {
   "cell_type": "markdown",
   "metadata": {
    "colab_type": "text",
    "id": "1kvBpo1MUix5"
   },
   "source": [
    "Now, let's try log-bin. Recall that when plotting histgrams we can specify the edges of bins through the `bins` parameter. For example, we can specify the edges of bins to [1, 2, 3, ... , 10] as follows.\n"
   ]
  },
  {
   "cell_type": "code",
   "execution_count": 11,
   "metadata": {
    "colab": {
     "base_uri": "https://localhost:8080/",
     "height": 282
    },
    "colab_type": "code",
    "executionInfo": {
     "elapsed": 470,
     "status": "ok",
     "timestamp": 1539803471891,
     "user": {
      "displayName": "Limeng Liu",
      "photoUrl": "",
      "userId": "08973283271534689847"
     },
     "user_tz": 240
    },
    "id": "__TJ7muuUix7",
    "outputId": "8dfb2480-63d8-4afb-ad03-bee1aae244db"
   },
   "outputs": [
    {
     "data": {
      "text/plain": [
       "<matplotlib.axes._subplots.AxesSubplot at 0x20c26263e10>"
      ]
     },
     "execution_count": 11,
     "metadata": {},
     "output_type": "execute_result"
    },
    {
     "data": {
      "image/png": "[encoded data removed]",
      "text/plain": [
       "<Figure size 432x288 with 1 Axes>"
      ]
     },
     "metadata": {},
     "output_type": "display_data"
    }
   ],
   "source": [
    "movies.IMDB_Rating.hist(bins=range(0,11))"
   ]
  },
  {
   "cell_type": "markdown",
   "metadata": {
    "colab_type": "text",
    "id": "Td9Ly0H5UiyE"
   },
   "source": [
    "Here, we can specify the edges of bins in a similar way. Instead of specifying on the linear scale, we do it on the log space. Some useful resources:\n",
    "\n",
    "* [Google query: python log-bin](https://www.google.com/webhp?sourceid=chrome-instant&ion=1&espv=2&ie=UTF-8#q=python+log-bin&pws=0)\n",
    "* [numpy.logspace](http://docs.scipy.org/doc/numpy/reference/generated/numpy.logspace.html)\n",
    "* [numpy.linspace vs numpy.logspace](http://stackoverflow.com/questions/31480033/difference-in-output-between-numpy-linspace-and-numpy-logspace)\n",
    "\n",
    "Hint: since $10^{\\text{start}} = \\text{min(Worldwide_Gross)}$, $\\text{start} = \\log_{10}(\\text{min(Worldwide_Gross)})$"
   ]
  },
  {
   "cell_type": "code",
   "execution_count": 12,
   "metadata": {
    "colab": {
     "base_uri": "https://localhost:8080/",
     "height": 34
    },
    "colab_type": "code",
    "executionInfo": {
     "elapsed": 266,
     "status": "ok",
     "timestamp": 1539804324611,
     "user": {
      "displayName": "Limeng Liu",
      "photoUrl": "",
      "userId": "08973283271534689847"
     },
     "user_tz": 240
    },
    "id": "p8ZAreHsUiyG",
    "outputId": "461c0ad9-b31a-408b-eaf3-2c1c9d079641"
   },
   "outputs": [
    {
     "data": {
      "text/plain": [
       "0.0"
      ]
     },
     "execution_count": 12,
     "metadata": {},
     "output_type": "execute_result"
    }
   ],
   "source": [
    "min(movies.Worldwide_Gross)"
   ]
  },
  {
   "cell_type": "markdown",
   "metadata": {
    "colab_type": "text",
    "id": "wnNtBUbrUiyO"
   },
   "source": [
    "Because there seems to be movie(s) that made $0, and because log(0) is undefined & log(1) = 0, let's add 1 to the variable.  "
   ]
  },
  {
   "cell_type": "code",
   "execution_count": 13,
   "metadata": {
    "colab": {},
    "colab_type": "code",
    "id": "4dbrRuIXUiyP"
   },
   "outputs": [],
   "source": [
    "movies.Worldwide_Gross = movies.Worldwide_Gross+1.0"
   ]
  },
  {
   "cell_type": "markdown",
   "metadata": {
    "colab_type": "text",
    "id": "wpvQkuguUiyV"
   },
   "source": [
    "**Q: now create logarithmic bins. Create 20 bins from the minimum value to the maximum value.**"
   ]
  },
  {
   "cell_type": "code",
   "execution_count": 19,
   "metadata": {
    "colab": {
     "base_uri": "https://localhost:8080/",
     "height": 104
    },
    "colab_type": "code",
    "executionInfo": {
     "elapsed": 337,
     "status": "ok",
     "timestamp": 1539804840378,
     "user": {
      "displayName": "Limeng Liu",
      "photoUrl": "",
      "userId": "08973283271534689847"
     },
     "user_tz": 240
    },
    "id": "UsBZ2M5dUiyW",
    "outputId": "620dd519-f11e-4aa5-f9b6-e1979594237f"
   },
   "outputs": [
    {
     "data": {
      "text/plain": [
       "array([1.00000000e+00, 3.14018485e+00, 9.86076088e+00, 3.09646119e+01,\n",
       "       9.72346052e+01, 3.05334634e+02, 9.58807191e+02, 3.01083182e+03,\n",
       "       9.45456845e+03, 2.96890926e+04, 9.32292387e+04, 2.92757043e+05,\n",
       "       9.19311230e+05, 2.88680720e+06, 9.06510822e+06, 2.84661155e+07,\n",
       "       8.93888645e+07, 2.80697558e+08, 8.81442219e+08, 2.76789150e+09])"
      ]
     },
     "execution_count": 19,
     "metadata": {},
     "output_type": "execute_result"
    }
   ],
   "source": [
    "# Implement\n",
    "bins = np.logspace(np.log10(min(movies.Worldwide_Gross)),np.log10(max(movies.Worldwide_Gross)),num = 20)\n",
    "bins"
   ]
  },
  {
   "cell_type": "markdown",
   "metadata": {
    "colab_type": "text",
    "id": "H6VOdaPCUiyc"
   },
   "source": [
    "Now we can plot a histgram with log-bin. Set both axis to be log-scale. "
   ]
  },
  {
   "cell_type": "code",
   "execution_count": 26,
   "metadata": {
    "colab": {
     "base_uri": "https://localhost:8080/",
     "height": 295
    },
    "colab_type": "code",
    "executionInfo": {
     "elapsed": 621,
     "status": "ok",
     "timestamp": 1539806244188,
     "user": {
      "displayName": "Limeng Liu",
      "photoUrl": "",
      "userId": "08973283271534689847"
     },
     "user_tz": 240
    },
    "id": "LQ7ST_j1Uiyf",
    "outputId": "9583067b-5174-4ad1-9590-c429561df04c"
   },
   "outputs": [
    {
     "data": {
      "text/plain": [
       "Text(0,0.5,'Frequency')"
      ]
     },
     "execution_count": 26,
     "metadata": {},
     "output_type": "execute_result"
    },
    {
     "data": {
      "image/png": "[encoded data removed]",
      "text/plain": [
       "<Figure size 432x288 with 1 Axes>"
      ]
     },
     "metadata": {},
     "output_type": "display_data"
    }
   ],
   "source": [
    "# Implement\n",
    "movies.Worldwide_Gross.hist(bins = bins)\n",
    "plt.xscale(\"log\")\n",
    "plt.yscale(\"log\")\n",
    "plt.xlabel(\"World Wide Gross\")\n",
    "plt.ylabel(\"Frequency\")"
   ]
  },
  {
   "cell_type": "markdown",
   "metadata": {
    "colab_type": "text",
    "id": "VeSXc9OOUiyn"
   },
   "source": [
    "What is going on? Is this the right plot?\n",
    "\n",
    "**Q: explain and fix**"
   ]
  },
  {
   "cell_type": "code",
   "execution_count": 35,
   "metadata": {
    "colab": {},
    "colab_type": "code",
    "id": "84W9BsL3Uiyo"
   },
   "outputs": [],
   "source": [
    "#Answer: No, it is no a right plot cause there are some empty bins in the graph.\n",
    "## to fix the problem, we need to change the number of bins of the histogram"
   ]
  },
  {
   "cell_type": "markdown",
   "metadata": {
    "colab_type": "text",
    "id": "Z_tAmmbrUiyv"
   },
   "source": [
    "**Q: Can you explain the plot? Why are there gaps?**"
   ]
  },
  {
   "cell_type": "code",
   "execution_count": 36,
   "metadata": {
    "colab": {},
    "colab_type": "code",
    "id": "jPlQe_69Uiyx"
   },
   "outputs": [],
   "source": [
    "##Answer: the gaps are caused by the number of bins, that some bins have no data points in the bin."
   ]
  },
  {
   "cell_type": "markdown",
   "metadata": {
    "colab_type": "text",
    "id": "xvx5R-c8Uiy2"
   },
   "source": [
    "## CCDF\n",
    "\n",
    "CCDF is a nice alternative to examine distributions with heavy tails. The idea is same as CDF, but the direction of aggregation is opposite. We have done CDF before. It's just a small change to that code. \n",
    "\n",
    "**Q: Draw a CCDF in log-log scale**"
   ]
  },
  {
   "cell_type": "code",
   "execution_count": 31,
   "metadata": {
    "colab": {},
    "colab_type": "code",
    "id": "K8axWQyxUiy3"
   },
   "outputs": [
    {
     "data": {
      "text/plain": [
       "Text(0.5,0,'World Wide Gross')"
      ]
     },
     "execution_count": 31,
     "metadata": {},
     "output_type": "execute_result"
    },
    {
     "data": {
      "image/png": "[encoded data removed]",
      "text/plain": [
       "<Figure size 432x288 with 1 Axes>"
      ]
     },
     "metadata": {},
     "output_type": "display_data"
    }
   ],
   "source": [
    "# implement \n",
    "data = movies.Worldwide_Gross\n",
    "sorted_vals = np.sort(data)\n",
    "ccdf = np.linspace(1, 1./len(data), len(data))\n",
    "plt.plot(sorted_vals, ccdf)\n",
    "plt.xscale('log')\n",
    "plt.yscale('log')\n",
    "plt.ylabel('CCDF')\n",
    "plt.xlabel('World Wide Gross')"
   ]
  },
  {
   "cell_type": "markdown",
   "metadata": {
    "colab_type": "text",
    "id": "FKhc5-oJUiy7"
   },
   "source": [
    "We can also try in semilog scale (only one axis is in a log-scale), where the horizontal axis is linear. \n",
    "\n",
    "**Q: Draw a CCDF in semilog scale**"
   ]
  },
  {
   "cell_type": "code",
   "execution_count": 32,
   "metadata": {
    "colab": {},
    "colab_type": "code",
    "id": "LUg59ujLUiy8"
   },
   "outputs": [
    {
     "data": {
      "text/plain": [
       "Text(0.5,0,'World Wide Gross')"
      ]
     },
     "execution_count": 32,
     "metadata": {},
     "output_type": "execute_result"
    },
    {
     "data": {
      "image/png": "[encoded data removed]",
      "text/plain": [
       "<Figure size 432x288 with 1 Axes>"
      ]
     },
     "metadata": {},
     "output_type": "display_data"
    }
   ],
   "source": [
    "# Implement\n",
    "data = movies.Worldwide_Gross\n",
    "sorted_vals = np.sort(data)\n",
    "ccdf = np.linspace(1, 1./len(data), len(data))\n",
    "plt.plot(sorted_vals, ccdf)\n",
    "plt.yscale('log')\n",
    "plt.ylabel('CCDF')\n",
    "plt.xlabel('World Wide Gross')"
   ]
  },
  {
   "cell_type": "markdown",
   "metadata": {
    "colab_type": "text",
    "id": "61GqyDTQUizC"
   },
   "source": [
    "A straight line in semilog scale means exponential decay (cf. a straight line in log-log scale means power-law decay). So it seems like the amount of money a movie makes across the world follows *roughly* an exponential distribution, while there are some outliers that make insane amount of money. \n",
    "\n",
    "**Q: Which is the most successful movie in our dataset?**\n",
    "\n",
    "You can use the following\n",
    "\n",
    "- `idxmax()`: https://pandas.pydata.org/pandas-docs/stable/generated/pandas.DataFrame.idxmax.html\n",
    "- `loc`: https://pandas.pydata.org/pandas-docs/stable/generated/pandas.DataFrame.loc.html or `iloc`: https://pandas.pydata.org/pandas-docs/stable/generated/pandas.DataFrame.iloc.html \n",
    "\n",
    "Which one should you use, `loc` or `iloc`? How are they different from each other?"
   ]
  },
  {
   "cell_type": "code",
   "execution_count": 37,
   "metadata": {
    "colab": {},
    "colab_type": "code",
    "id": "h55-65_IUizF"
   },
   "outputs": [
    {
     "data": {
      "text/plain": [
       "1234"
      ]
     },
     "execution_count": 37,
     "metadata": {},
     "output_type": "execute_result"
    }
   ],
   "source": [
    "# Implement\n",
    "# iloc is Purely integer-location based indexing for selection by position\n",
    "# loc is Access a group of rows and columns by labels or a boolean array\n",
    "movies.Worldwide_Gross.idxmax()"
   ]
  },
  {
   "cell_type": "code",
   "execution_count": 39,
   "metadata": {},
   "outputs": [
    {
     "data": {
      "text/plain": [
       "'Georgia Rule'"
      ]
     },
     "execution_count": 39,
     "metadata": {},
     "output_type": "execute_result"
    }
   ],
   "source": [
    "# in this case, I will choose iloc[] because we already get the index number of the movies so it will be easy\n",
    "# to use iloc to find the title of the movie\n",
    "movies.Title.iloc[1234]"
   ]
  }
 ],
 "metadata": {
  "colab": {
   "collapsed_sections": [],
   "name": "m10-lab.ipynb",
   "provenance": [],
   "version": "0.3.2"
  },
  "kernelspec": {
   "display_name": "Python 3",
   "language": "python",
   "name": "python3"
  },
  "language_info": {
   "codemirror_mode": {
    "name": "ipython",
    "version": 3
   },
   "file_extension": ".py",
   "mimetype": "text/x-python",
   "name": "python",
   "nbconvert_exporter": "python",
   "pygments_lexer": "ipython3",
   "version": "3.6.5"
  }
 },
 "nbformat": 4,
 "nbformat_minor": 2
}
